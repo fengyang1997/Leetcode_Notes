{
 "cells": [
  {
   "cell_type": "code",
   "execution_count": 40,
   "source": [
    "import heapq\r\n",
    "# from itertools import count\r\n",
    "\r\n",
    "a = [5,3,6,1,8,10]\r\n",
    "a = list(map(lambda x:-x,a))\r\n",
    "heapq.heapify(a)\r\n",
    "a = list(map(lambda x:-x,a))\r\n",
    "print(a)"
   ],
   "outputs": [
    {
     "output_type": "stream",
     "name": "stdout",
     "text": [
      "[10, 8, 6, 1, 3, 5]\n"
     ]
    }
   ],
   "metadata": {}
  },
  {
   "cell_type": "code",
   "execution_count": 41,
   "source": [
    "heapq.heappop(a)"
   ],
   "outputs": [
    {
     "output_type": "execute_result",
     "data": {
      "text/plain": [
       "10"
      ]
     },
     "metadata": {},
     "execution_count": 41
    }
   ],
   "metadata": {}
  },
  {
   "cell_type": "code",
   "execution_count": 30,
   "source": [
    "heapq.heappush(a,10)"
   ],
   "outputs": [],
   "metadata": {}
  },
  {
   "cell_type": "code",
   "execution_count": 4,
   "source": [
    "a"
   ],
   "outputs": [
    {
     "output_type": "execute_result",
     "data": {
      "text/plain": [
       "[1, 5, 3, 6, 8, 10, 10]"
      ]
     },
     "metadata": {},
     "execution_count": 4
    }
   ],
   "metadata": {}
  },
  {
   "cell_type": "code",
   "execution_count": 5,
   "source": [
    "a"
   ],
   "outputs": [
    {
     "output_type": "execute_result",
     "data": {
      "text/plain": [
       "[1, 5, 3, 6, 8, 10, 10]"
      ]
     },
     "metadata": {},
     "execution_count": 5
    }
   ],
   "metadata": {}
  },
  {
   "cell_type": "code",
   "execution_count": 15,
   "source": [
    "a = list(map(lambda x:-x,a))"
   ],
   "outputs": [],
   "metadata": {}
  },
  {
   "cell_type": "code",
   "execution_count": 16,
   "source": [
    "a"
   ],
   "outputs": [
    {
     "output_type": "execute_result",
     "data": {
      "text/plain": [
       "[-1, -5, -3, -6, -8, -10]"
      ]
     },
     "metadata": {},
     "execution_count": 16
    }
   ],
   "metadata": {}
  },
  {
   "cell_type": "code",
   "execution_count": 46,
   "source": [
    "def heap_sortd(arr):\r\n",
    "    if len(arr)==0:\r\n",
    "        return []\r\n",
    "    h = []\r\n",
    "    for i in arr:\r\n",
    "        heapq.heappush(h,i)\r\n",
    "    L = []\r\n",
    "    while (h):\r\n",
    "        L.append(heapq.heappop(h))\r\n",
    "    return L"
   ],
   "outputs": [],
   "metadata": {}
  },
  {
   "cell_type": "code",
   "execution_count": 44,
   "source": [
    "a"
   ],
   "outputs": [
    {
     "output_type": "execute_result",
     "data": {
      "text/plain": [
       "[5, 8, 6, 1, 3]"
      ]
     },
     "metadata": {},
     "execution_count": 44
    }
   ],
   "metadata": {}
  },
  {
   "cell_type": "code",
   "execution_count": 47,
   "source": [
    "a = heap_sortd(a)"
   ],
   "outputs": [],
   "metadata": {}
  },
  {
   "cell_type": "code",
   "execution_count": 48,
   "source": [
    "a"
   ],
   "outputs": [
    {
     "output_type": "execute_result",
     "data": {
      "text/plain": [
       "[1, 3, 5, 6, 8]"
      ]
     },
     "metadata": {},
     "execution_count": 48
    }
   ],
   "metadata": {}
  },
  {
   "cell_type": "code",
   "execution_count": 1,
   "source": [
    "nums = [1,2,3,7,7,6,8,8,6,6,6,9]\r\n",
    "map_ = {} #nums[i]:对应出现的次数\r\n",
    "for i in range(len(nums)):\r\n",
    "    map_[nums[i]] = map_.get(nums[i], 0) + 1"
   ],
   "outputs": [],
   "metadata": {}
  },
  {
   "cell_type": "code",
   "execution_count": null,
   "source": [
    "pri_que = [] #小顶堆\r\n",
    "k=3\r\n",
    "#用固定大小为k的小顶堆，扫面所有频率的数值\r\n",
    "for key, freq in map_.items():\r\n",
    "    heapq.heappush(pri_que, (freq, key))\r\n",
    "    if len(pri_que) > k: #如果堆的大小大于了K，则队列弹出，保证堆的大小一直为k\r\n",
    "        heapq.heappop(pri_que)"
   ],
   "outputs": [],
   "metadata": {}
  },
  {
   "cell_type": "code",
   "execution_count": 2,
   "source": [
    "map_.items()"
   ],
   "outputs": [
    {
     "output_type": "execute_result",
     "data": {
      "text/plain": [
       "dict_items([(1, 1), (2, 1), (3, 1), (7, 2), (6, 4), (8, 2), (9, 1)])"
      ]
     },
     "metadata": {},
     "execution_count": 2
    }
   ],
   "metadata": {}
  },
  {
   "cell_type": "code",
   "execution_count": null,
   "source": [],
   "outputs": [],
   "metadata": {}
  }
 ],
 "metadata": {
  "orig_nbformat": 4,
  "language_info": {
   "name": "python",
   "version": "3.8.5",
   "mimetype": "text/x-python",
   "codemirror_mode": {
    "name": "ipython",
    "version": 3
   },
   "pygments_lexer": "ipython3",
   "nbconvert_exporter": "python",
   "file_extension": ".py"
  },
  "kernelspec": {
   "name": "python3",
   "display_name": "Python 3.8.5 64-bit ('base': conda)"
  },
  "interpreter": {
   "hash": "221d003bdd05514f38f5a34e3be30bfcf03b3776a0fe8106728d02e656da1e13"
  }
 },
 "nbformat": 4,
 "nbformat_minor": 2
}